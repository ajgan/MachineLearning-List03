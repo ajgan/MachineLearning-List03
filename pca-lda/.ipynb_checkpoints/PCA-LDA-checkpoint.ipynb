{
 "cells": [
  {
   "cell_type": "code",
   "execution_count": 2,
   "metadata": {
    "collapsed": true
   },
   "outputs": [],
   "source": [
    "import pandas as pd\n",
    "import numpy as np\n",
    "from sklearn.neighbors import NearestNeighbors as NN"
   ]
  },
  {
   "cell_type": "code",
   "execution_count": 18,
   "metadata": {},
   "outputs": [
    {
     "data": {
      "text/plain": [
       "array([[0, 3, 1]])"
      ]
     },
     "execution_count": 18,
     "metadata": {},
     "output_type": "execute_result"
    }
   ],
   "source": [
    "X = [[-1, -1], [-2, -1], [-3, -2], [1, 1], [2, 1], [3, 2]]\n",
    "nbrs = NN(n_neighbors=3).fit(X)\n",
    "distances, indices = nbrs.kneighbors([[0,-0.5]])\n",
    "indices "
   ]
  },
  {
   "cell_type": "code",
   "execution_count": 19,
   "metadata": {},
   "outputs": [
    {
     "data": {
      "text/plain": [
       "array([[ 1.11803399,  1.80277564,  2.06155281]])"
      ]
     },
     "execution_count": 19,
     "metadata": {},
     "output_type": "execute_result"
    }
   ],
   "source": [
    "distances"
   ]
  },
  {
   "cell_type": "code",
   "execution_count": 20,
   "metadata": {
    "collapsed": true
   },
   "outputs": [],
   "source": [
    "dataretrieve = pd.read_csv(\"..//datasets/dataretrieve.csv\", na_values='?')\n",
    "desharnais = pd.read_csv(\"..//datasets/desharnais.csv\", na_values='?')\n",
    "dataretrieve = dataretrieve.fillna(0)\n",
    "desharnais = desharnais.fillna(0)"
   ]
  },
  {
   "cell_type": "code",
   "execution_count": 21,
   "metadata": {
    "collapsed": true
   },
   "outputs": [],
   "source": [
    "with open(\"..//datasets/dataretrieve.txt\") as infile:\n",
    "    dataretrievelist = infile.read()\n",
    "    dataretrievelist = dataretrievelist.split(',')\n",
    "with open(\"..//datasets/desharnais.txt\") as infile:\n",
    "    desharnaislist = infile.read()\n",
    "    desharnaislist = desharnaislist.split(',')"
   ]
  },
  {
   "cell_type": "code",
   "execution_count": 25,
   "metadata": {
    "collapsed": true
   },
   "outputs": [],
   "source": [
    "from sklearn.model_selection import KFold"
   ]
  },
  {
   "cell_type": "code",
   "execution_count": 26,
   "metadata": {
    "collapsed": true
   },
   "outputs": [],
   "source": [
    "#para compreensao\n",
    "from sklearn.decomposition import PCA\n",
    "from sklearn.discriminant_analysis import LinearDiscriminantAnalysis"
   ]
  }
 ],
 "metadata": {
  "kernelspec": {
   "display_name": "Python 3",
   "language": "python",
   "name": "python3"
  },
  "language_info": {
   "codemirror_mode": {
    "name": "ipython",
    "version": 3
   },
   "file_extension": ".py",
   "mimetype": "text/x-python",
   "name": "python",
   "nbconvert_exporter": "python",
   "pygments_lexer": "ipython3",
   "version": "3.6.1"
  }
 },
 "nbformat": 4,
 "nbformat_minor": 2
}
