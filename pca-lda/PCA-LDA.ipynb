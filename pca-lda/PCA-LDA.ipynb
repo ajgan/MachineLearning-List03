{
 "cells": [
  {
   "cell_type": "code",
   "execution_count": 1,
   "metadata": {
    "collapsed": true
   },
   "outputs": [],
   "source": [
    "import pandas as pd\n",
    "import numpy as np"
   ]
  },
  {
   "cell_type": "markdown",
   "metadata": {},
   "source": [
    "# Carregando datasets"
   ]
  },
  {
   "cell_type": "code",
   "execution_count": 2,
   "metadata": {
    "collapsed": true
   },
   "outputs": [],
   "source": [
    "dataretrieve = pd.read_csv(\"..//datasets/dataretrieve.csv\", na_values='?')\n",
    "desharnais = pd.read_csv(\"..//datasets/desharnais.csv\", na_values='?')\n",
    "dataretrieve = dataretrieve.fillna(0)\n",
    "desharnais = desharnais.fillna(0)"
   ]
  },
  {
   "cell_type": "code",
   "execution_count": 3,
   "metadata": {
    "collapsed": true
   },
   "outputs": [],
   "source": [
    "with open(\"..//datasets/dataretrieve.txt\") as infile:\n",
    "    dataretrievelist = infile.read()\n",
    "    dataretrievelist = dataretrievelist.split(',')\n",
    "with open(\"..//datasets/desharnais.txt\") as infile:\n",
    "    desharnaislist = infile.read()\n",
    "    desharnaislist = desharnaislist.split(',')"
   ]
  },
  {
   "cell_type": "markdown",
   "metadata": {},
   "source": [
    "# PCA"
   ]
  },
  {
   "cell_type": "code",
   "execution_count": 4,
   "metadata": {
    "collapsed": true
   },
   "outputs": [],
   "source": [
    "from sklearn.preprocessing import StandardScaler"
   ]
  },
  {
   "cell_type": "code",
   "execution_count": 212,
   "metadata": {
    "collapsed": true
   },
   "outputs": [],
   "source": [
    "def myPCA(dataset, components):\n",
    "    #A última coluna é a classe\n",
    "    dataX = dataset.loc[:,dataset.columns[:-1]].values\n",
    "    dataY = dataset.loc[:,[dataset.columns[-1]]].values\n",
    "    \n",
    "    dataXstd = StandardScaler().fit_transform(dataX)\n",
    "    \n",
    "    covMat = np.cov(dataXstd.T)\n",
    "    \n",
    "    eigVals, eigVecs = np.linalg.eig(covMat)\n",
    "    \n",
    "    eigPairs = [(np.abs(eigVals[i]), eigVecs[:,i]) for i in range(len(eigVals))]\n",
    "    eigPairs = sorted(eigPairs, key=lambda k: k[0], reverse=True)\n",
    "    \n",
    "    totalInfo = sum(eigVals)\n",
    "    infoCovered = [(i / totalInfo) for i in sorted(eigVals, reverse=True)]\n",
    "    cumInfoCovered = np.cumsum(infoCovered)\n",
    "    \n",
    "    pos = 0\n",
    "    if(components == 0):\n",
    "        for i in range(len(cumInfoCovered)):\n",
    "            if(i==len(cumInfoCovered)-1):\n",
    "                pos = i-1\n",
    "                break\n",
    "            if (cumInfoCovered[i] > 0.9):\n",
    "                pos = i\n",
    "                break\n",
    "    else:\n",
    "        pos = components - 1\n",
    "    \n",
    "    matrixW = np.hstack((eigPairs[0][1].reshape(len(eigVals),1)))\n",
    "    \n",
    "    for j in range(1, pos+1):\n",
    "        matrixW = np.c_[matrixW, eigPairs[j][1].reshape(len(eigVals),1)]\n",
    "        \n",
    "    transformedData = dataXstd.dot(matrixW)\n",
    "    \n",
    "    return transformedData, matrixW"
   ]
  },
  {
   "cell_type": "markdown",
   "metadata": {},
   "source": [
    "# Knn x Nº de Componentes"
   ]
  },
  {
   "cell_type": "code",
   "execution_count": 213,
   "metadata": {
    "collapsed": true
   },
   "outputs": [],
   "source": [
    "from sklearn import datasets, linear_model\n",
    "from sklearn.model_selection import cross_val_score\n",
    "from sklearn.neighbors import KNeighborsClassifier"
   ]
  },
  {
   "cell_type": "code",
   "execution_count": 214,
   "metadata": {
    "collapsed": true
   },
   "outputs": [],
   "source": [
    "def calcScores(dataset):\n",
    "    knn = KNeighborsClassifier(n_neighbors=3)\n",
    "    dataY = dataset.loc[:,[dataset.columns[-1]]].values.ravel()\n",
    "    #c, r = dataY.shape\n",
    "    #dataY = dataY.reshape(c,)\n",
    "    scores = []\n",
    "    pcs = []\n",
    "    for i in range(1,len(dataset.columns)):\n",
    "        transformedData, matrixW = myPCA(dataset, i)\n",
    "        if(i==1):\n",
    "            transformedData = transformedData.reshape((transformedData.shape[0],1))\n",
    "        compScores = cross_val_score(knn, transformedData, dataY, cv=5, scoring='accuracy')\n",
    "        scores.append(np.mean(compScores))\n",
    "        pcs.append(i)\n",
    "    return scores, pcs"
   ]
  },
  {
   "cell_type": "markdown",
   "metadata": {},
   "source": [
    "# Resultados"
   ]
  },
  {
   "cell_type": "code",
   "execution_count": 215,
   "metadata": {},
   "outputs": [
    {
     "name": "stderr",
     "output_type": "stream",
     "text": [
      "/Users/ajgan/anaconda/lib/python3.6/site-packages/sklearn/utils/validation.py:429: DataConversionWarning: Data with input dtype int64 was converted to float64 by StandardScaler.\n",
      "  warnings.warn(msg, _DataConversionWarning)\n",
      "/Users/ajgan/anaconda/lib/python3.6/site-packages/sklearn/utils/validation.py:429: DataConversionWarning: Data with input dtype int64 was converted to float64 by StandardScaler.\n",
      "  warnings.warn(msg, _DataConversionWarning)\n",
      "/Users/ajgan/anaconda/lib/python3.6/site-packages/sklearn/utils/validation.py:429: DataConversionWarning: Data with input dtype int64 was converted to float64 by StandardScaler.\n",
      "  warnings.warn(msg, _DataConversionWarning)\n",
      "/Users/ajgan/anaconda/lib/python3.6/site-packages/sklearn/utils/validation.py:429: DataConversionWarning: Data with input dtype int64 was converted to float64 by StandardScaler.\n",
      "  warnings.warn(msg, _DataConversionWarning)\n",
      "/Users/ajgan/anaconda/lib/python3.6/site-packages/sklearn/utils/validation.py:429: DataConversionWarning: Data with input dtype int64 was converted to float64 by StandardScaler.\n",
      "  warnings.warn(msg, _DataConversionWarning)\n",
      "/Users/ajgan/anaconda/lib/python3.6/site-packages/sklearn/utils/validation.py:429: DataConversionWarning: Data with input dtype int64 was converted to float64 by StandardScaler.\n",
      "  warnings.warn(msg, _DataConversionWarning)\n",
      "/Users/ajgan/anaconda/lib/python3.6/site-packages/sklearn/utils/validation.py:429: DataConversionWarning: Data with input dtype int64 was converted to float64 by StandardScaler.\n",
      "  warnings.warn(msg, _DataConversionWarning)\n",
      "/Users/ajgan/anaconda/lib/python3.6/site-packages/sklearn/utils/validation.py:429: DataConversionWarning: Data with input dtype int64 was converted to float64 by StandardScaler.\n",
      "  warnings.warn(msg, _DataConversionWarning)\n"
     ]
    }
   ],
   "source": [
    "#Warning por conta da conversão dos valores do dataset para dados normalizados\n",
    "dataretrieveScores, dataretrievePcs = calcScores(dataretrieve)\n",
    "desharnaisScores, desharnaisPcs = calcScores(desharnais)"
   ]
  },
  {
   "cell_type": "code",
   "execution_count": 216,
   "metadata": {},
   "outputs": [
    {
     "data": {
      "text/plain": [
       "[0.90793162393162397,\n",
       " 0.90793162393162397,\n",
       " 0.88393162393162394,\n",
       " 0.88393162393162394,\n",
       " 0.88393162393162394,\n",
       " 0.89962393162393162,\n",
       " 0.89962393162393162,\n",
       " 0.89962393162393162]"
      ]
     },
     "execution_count": 216,
     "metadata": {},
     "output_type": "execute_result"
    }
   ],
   "source": [
    "dataretrieveScores"
   ]
  },
  {
   "cell_type": "code",
   "execution_count": 217,
   "metadata": {},
   "outputs": [
    {
     "data": {
      "text/plain": [
       "[0.43382352941176466,\n",
       " 0.51764705882352946,\n",
       " 0.53014705882352942,\n",
       " 0.60514705882352948,\n",
       " 0.59264705882352942,\n",
       " 0.58014705882352946,\n",
       " 0.58014705882352946,\n",
       " 0.55514705882352944,\n",
       " 0.55514705882352944,\n",
       " 0.55514705882352944,\n",
       " 0.55514705882352944]"
      ]
     },
     "execution_count": 217,
     "metadata": {},
     "output_type": "execute_result"
    }
   ],
   "source": [
    "desharnaisScores"
   ]
  },
  {
   "cell_type": "code",
   "execution_count": 218,
   "metadata": {
    "collapsed": true
   },
   "outputs": [],
   "source": [
    "import matplotlib\n",
    "import matplotlib.pyplot as plt\n",
    "import matplotlib.ticker as mticker\n",
    "from matplotlib.ticker import FormatStrFormatter\n",
    "import seaborn as sns"
   ]
  },
  {
   "cell_type": "code",
   "execution_count": 249,
   "metadata": {},
   "outputs": [
    {
     "data": {
      "image/png": "[encoded data removed]",
      "text/plain": [
       "<matplotlib.figure.Figure at 0x123752780>"
      ]
     },
     "metadata": {},
     "output_type": "display_data"
    }
   ],
   "source": [
    "plt.ylim((0.80,0.95))\n",
    "ax = sns.barplot(x=dataretrievePcs, y=dataretrieveScores, color = sns.xkcd_rgb['light blue'])\n",
    "ax.set(xlabel='Número de componentes')\n",
    "ax.set(ylabel='% acerto')\n",
    "for p in ax.patches:\n",
    "    ax.annotate(np.round(p.get_height(), decimals=4), (p.get_x()+0.05, p.get_height()+0.005))\n",
    "plt.savefig(\"..//results/dataretrievePCA.jpg\")\n",
    "plt.show()"
   ]
  },
  {
   "cell_type": "code",
   "execution_count": 250,
   "metadata": {},
   "outputs": [
    {
     "data": {
      "image/png": "[encoded data removed]",
      "text/plain": [
       "<matplotlib.figure.Figure at 0x12137f908>"
      ]
     },
     "metadata": {},
     "output_type": "display_data"
    }
   ],
   "source": [
    "plt.ylim((0.40,0.65))\n",
    "ax = sns.barplot(x=desharnaisPcs, y=desharnaisScores, color = sns.xkcd_rgb['light blue'])\n",
    "ax.set(xlabel='Número de componentes')\n",
    "ax.set(ylabel='% acerto')\n",
    "for p in ax.patches:\n",
    "    ax.annotate(np.round(p.get_height(), decimals=3), (p.get_x()+0.05, p.get_height()+0.005))\n",
    "plt.savefig(\"..//results/desharnaisPCA.jpg\")\n",
    "plt.show()"
   ]
  },
  {
   "cell_type": "markdown",
   "metadata": {},
   "source": [
    "# LDA"
   ]
  },
  {
   "cell_type": "code",
   "execution_count": 227,
   "metadata": {},
   "outputs": [],
   "source": [
    "def myLDA(dataset, components):\n",
    "    \n",
    "    dim = len(dataset.columns)-1\n",
    "    classList = dataset[dataset.columns[-1]].unique()\n",
    "    classCount = len(classList)\n",
    "    \n",
    "    dataX = dataset.loc[:,dataset.columns[:-1]].values\n",
    "    dataY = dataset.loc[:,[dataset.columns[-1]]].values\n",
    "    \n",
    "    dataXstd = StandardScaler().fit_transform(dataX)\n",
    "    \n",
    "    classInstances = []\n",
    "    for i in range(classCount):\n",
    "        myList = []\n",
    "        for j in range(len(dataY)):\n",
    "                if ((dataY==classList[i])[j] == True):\n",
    "                    myList.append(j)\n",
    "        classInstances.append(myList)\n",
    "        \n",
    "    meanVectors = []\n",
    "    \n",
    "    for i in range(classCount):\n",
    "        meanVectors.append(np.mean(dataXstd[classInstances[i]], axis=0))\n",
    "    \n",
    "    Sw = np.zeros((dim,dim))\n",
    "    \n",
    "    for i in range(classCount):\n",
    "        Si = np.zeros((dim,dim))\n",
    "        for j in range(len(classInstances[i])):\n",
    "            row = dataXstd[classInstances[i]][j].reshape(dim,1)\n",
    "            vec = meanVectors[i].reshape(dim,1)\n",
    "            Si = Si + ((row - vec).dot((row - vec).T))\n",
    "        Sw = Sw + Si\n",
    "    \n",
    "    meanVec = np.mean(dataXstd, axis=0)\n",
    "    Sb = np.zeros((dim,dim))\n",
    "    \n",
    "    for i in range(classCount):\n",
    "        ni = len(classInstances[i])\n",
    "        vec = meanVectors[i].reshape(dim,1)\n",
    "        mvec = meanVec.reshape(dim,1)\n",
    "        \n",
    "        Sb = Sb + (ni * ((vec - mvec).dot((vec - mvec).T)))\n",
    "    \n",
    "    eigVals, eigVecs = np.linalg.eig(np.linalg.inv(Sw).dot(Sb))\n",
    "    \n",
    "    eigPairs = [(np.abs(eigVals[i]), eigVecs[:,i]) for i in range(len(eigVals))]\n",
    "    eigPairs = sorted(eigPairs, key=lambda k: k[0], reverse=True)\n",
    "    \n",
    "    matrixW = np.hstack((eigPairs[0][1].reshape(len(eigVals),1)))\n",
    "    \n",
    "    pos = components - 1\n",
    "    \n",
    "    for j in range(1, pos+1):\n",
    "        matrixW = np.c_[matrixW, eigPairs[j][1].reshape(len(eigVals),1)]\n",
    "        \n",
    "    transformedData = dataXstd.dot(matrixW)\n",
    "    \n",
    "    return transformedData, matrixW"
   ]
  },
  {
   "cell_type": "code",
   "execution_count": 232,
   "metadata": {
    "collapsed": true
   },
   "outputs": [],
   "source": [
    "def calcScoresLDA(dataset):\n",
    "    knn = KNeighborsClassifier(n_neighbors=3)\n",
    "    dataY = dataset.loc[:,[dataset.columns[-1]]].values.ravel()\n",
    "    scores = []\n",
    "    discs = []\n",
    "    \n",
    "    dim = len(dataset.columns)-1\n",
    "    classList = dataset[dataset.columns[-1]].unique()\n",
    "    classCount = len(classList)\n",
    "    \n",
    "    discsNumbers = classCount\n",
    "    if(dim<classCount):\n",
    "        discsNumbers = dim\n",
    "    \n",
    "    for i in range(1,discsNumbers):\n",
    "        transformedData, matrixW = myLDA(dataset, i)\n",
    "        if(i==1):\n",
    "            transformedData = transformedData.reshape((transformedData.shape[0],1))\n",
    "        compScores = cross_val_score(knn, transformedData, dataY, cv=5, scoring='accuracy')\n",
    "        scores.append(np.mean(compScores))\n",
    "        discs.append(i)\n",
    "    return scores, discs"
   ]
  },
  {
   "cell_type": "code",
   "execution_count": 233,
   "metadata": {},
   "outputs": [
    {
     "name": "stderr",
     "output_type": "stream",
     "text": [
      "/Users/ajgan/anaconda/lib/python3.6/site-packages/sklearn/utils/validation.py:429: DataConversionWarning: Data with input dtype int64 was converted to float64 by StandardScaler.\n",
      "  warnings.warn(msg, _DataConversionWarning)\n",
      "/Users/ajgan/anaconda/lib/python3.6/site-packages/numpy/core/numeric.py:531: ComplexWarning: Casting complex values to real discards the imaginary part\n",
      "  return array(a, dtype, copy=False, order=order)\n",
      "/Users/ajgan/anaconda/lib/python3.6/site-packages/sklearn/utils/validation.py:382: ComplexWarning: Casting complex values to real discards the imaginary part\n",
      "  array = np.array(array, dtype=dtype, order=order, copy=copy)\n",
      "/Users/ajgan/anaconda/lib/python3.6/site-packages/numpy/core/numeric.py:531: ComplexWarning: Casting complex values to real discards the imaginary part\n",
      "  return array(a, dtype, copy=False, order=order)\n",
      "/Users/ajgan/anaconda/lib/python3.6/site-packages/sklearn/utils/validation.py:382: ComplexWarning: Casting complex values to real discards the imaginary part\n",
      "  array = np.array(array, dtype=dtype, order=order, copy=copy)\n",
      "/Users/ajgan/anaconda/lib/python3.6/site-packages/numpy/core/numeric.py:531: ComplexWarning: Casting complex values to real discards the imaginary part\n",
      "  return array(a, dtype, copy=False, order=order)\n",
      "/Users/ajgan/anaconda/lib/python3.6/site-packages/sklearn/utils/validation.py:382: ComplexWarning: Casting complex values to real discards the imaginary part\n",
      "  array = np.array(array, dtype=dtype, order=order, copy=copy)\n",
      "/Users/ajgan/anaconda/lib/python3.6/site-packages/numpy/core/numeric.py:531: ComplexWarning: Casting complex values to real discards the imaginary part\n",
      "  return array(a, dtype, copy=False, order=order)\n",
      "/Users/ajgan/anaconda/lib/python3.6/site-packages/sklearn/utils/validation.py:382: ComplexWarning: Casting complex values to real discards the imaginary part\n",
      "  array = np.array(array, dtype=dtype, order=order, copy=copy)\n",
      "/Users/ajgan/anaconda/lib/python3.6/site-packages/numpy/core/numeric.py:531: ComplexWarning: Casting complex values to real discards the imaginary part\n",
      "  return array(a, dtype, copy=False, order=order)\n",
      "/Users/ajgan/anaconda/lib/python3.6/site-packages/sklearn/utils/validation.py:382: ComplexWarning: Casting complex values to real discards the imaginary part\n",
      "  array = np.array(array, dtype=dtype, order=order, copy=copy)\n",
      "/Users/ajgan/anaconda/lib/python3.6/site-packages/numpy/core/numeric.py:531: ComplexWarning: Casting complex values to real discards the imaginary part\n",
      "  return array(a, dtype, copy=False, order=order)\n",
      "/Users/ajgan/anaconda/lib/python3.6/site-packages/sklearn/utils/validation.py:382: ComplexWarning: Casting complex values to real discards the imaginary part\n",
      "  array = np.array(array, dtype=dtype, order=order, copy=copy)\n",
      "/Users/ajgan/anaconda/lib/python3.6/site-packages/numpy/core/numeric.py:531: ComplexWarning: Casting complex values to real discards the imaginary part\n",
      "  return array(a, dtype, copy=False, order=order)\n",
      "/Users/ajgan/anaconda/lib/python3.6/site-packages/sklearn/utils/validation.py:382: ComplexWarning: Casting complex values to real discards the imaginary part\n",
      "  array = np.array(array, dtype=dtype, order=order, copy=copy)\n",
      "/Users/ajgan/anaconda/lib/python3.6/site-packages/numpy/core/numeric.py:531: ComplexWarning: Casting complex values to real discards the imaginary part\n",
      "  return array(a, dtype, copy=False, order=order)\n",
      "/Users/ajgan/anaconda/lib/python3.6/site-packages/sklearn/utils/validation.py:382: ComplexWarning: Casting complex values to real discards the imaginary part\n",
      "  array = np.array(array, dtype=dtype, order=order, copy=copy)\n",
      "/Users/ajgan/anaconda/lib/python3.6/site-packages/numpy/core/numeric.py:531: ComplexWarning: Casting complex values to real discards the imaginary part\n",
      "  return array(a, dtype, copy=False, order=order)\n",
      "/Users/ajgan/anaconda/lib/python3.6/site-packages/sklearn/utils/validation.py:382: ComplexWarning: Casting complex values to real discards the imaginary part\n",
      "  array = np.array(array, dtype=dtype, order=order, copy=copy)\n",
      "/Users/ajgan/anaconda/lib/python3.6/site-packages/numpy/core/numeric.py:531: ComplexWarning: Casting complex values to real discards the imaginary part\n",
      "  return array(a, dtype, copy=False, order=order)\n",
      "/Users/ajgan/anaconda/lib/python3.6/site-packages/sklearn/utils/validation.py:382: ComplexWarning: Casting complex values to real discards the imaginary part\n",
      "  array = np.array(array, dtype=dtype, order=order, copy=copy)\n",
      "/Users/ajgan/anaconda/lib/python3.6/site-packages/numpy/core/numeric.py:531: ComplexWarning: Casting complex values to real discards the imaginary part\n",
      "  return array(a, dtype, copy=False, order=order)\n",
      "/Users/ajgan/anaconda/lib/python3.6/site-packages/sklearn/utils/validation.py:382: ComplexWarning: Casting complex values to real discards the imaginary part\n",
      "  array = np.array(array, dtype=dtype, order=order, copy=copy)\n",
      "/Users/ajgan/anaconda/lib/python3.6/site-packages/numpy/core/numeric.py:531: ComplexWarning: Casting complex values to real discards the imaginary part\n",
      "  return array(a, dtype, copy=False, order=order)\n",
      "/Users/ajgan/anaconda/lib/python3.6/site-packages/sklearn/utils/validation.py:382: ComplexWarning: Casting complex values to real discards the imaginary part\n",
      "  array = np.array(array, dtype=dtype, order=order, copy=copy)\n",
      "/Users/ajgan/anaconda/lib/python3.6/site-packages/numpy/core/numeric.py:531: ComplexWarning: Casting complex values to real discards the imaginary part\n",
      "  return array(a, dtype, copy=False, order=order)\n",
      "/Users/ajgan/anaconda/lib/python3.6/site-packages/sklearn/utils/validation.py:382: ComplexWarning: Casting complex values to real discards the imaginary part\n",
      "  array = np.array(array, dtype=dtype, order=order, copy=copy)\n",
      "/Users/ajgan/anaconda/lib/python3.6/site-packages/numpy/core/numeric.py:531: ComplexWarning: Casting complex values to real discards the imaginary part\n",
      "  return array(a, dtype, copy=False, order=order)\n",
      "/Users/ajgan/anaconda/lib/python3.6/site-packages/sklearn/utils/validation.py:382: ComplexWarning: Casting complex values to real discards the imaginary part\n",
      "  array = np.array(array, dtype=dtype, order=order, copy=copy)\n",
      "/Users/ajgan/anaconda/lib/python3.6/site-packages/numpy/core/numeric.py:531: ComplexWarning: Casting complex values to real discards the imaginary part\n",
      "  return array(a, dtype, copy=False, order=order)\n",
      "/Users/ajgan/anaconda/lib/python3.6/site-packages/sklearn/utils/validation.py:382: ComplexWarning: Casting complex values to real discards the imaginary part\n",
      "  array = np.array(array, dtype=dtype, order=order, copy=copy)\n"
     ]
    }
   ],
   "source": [
    "dataretrieveLDAScores, dataretrieveDiscs = calcScoresLDA(dataretrieve)\n",
    "desharnaisLDAScores, desharnaisDiscs = calcScoresLDA(desharnais)"
   ]
  },
  {
   "cell_type": "code",
   "execution_count": 234,
   "metadata": {},
   "outputs": [
    {
     "data": {
      "text/plain": [
       "[0.91562393162393163]"
      ]
     },
     "execution_count": 234,
     "metadata": {},
     "output_type": "execute_result"
    }
   ],
   "source": [
    "dataretrieveLDAScores"
   ]
  },
  {
   "cell_type": "code",
   "execution_count": 235,
   "metadata": {},
   "outputs": [
    {
     "data": {
      "text/plain": [
       "[0.62941176470588234, 0.70514705882352946]"
      ]
     },
     "execution_count": 235,
     "metadata": {},
     "output_type": "execute_result"
    }
   ],
   "source": [
    "desharnaisLDAScores"
   ]
  },
  {
   "cell_type": "code",
   "execution_count": 267,
   "metadata": {},
   "outputs": [
    {
     "data": {
      "image/png": "[encoded data removed]",
      "text/plain": [
       "<matplotlib.figure.Figure at 0x121c45080>"
      ]
     },
     "metadata": {},
     "output_type": "display_data"
    }
   ],
   "source": [
    "plt.figure(figsize=(2,6))\n",
    "plt.ylim((0.8,0.95))\n",
    "ax = sns.barplot(x=dataretrieveDiscs, y=dataretrieveLDAScores, color = sns.xkcd_rgb['light blue'])\n",
    "ax.set(xlabel='Número de componentes')\n",
    "ax.set(ylabel='% acerto')\n",
    "for p in ax.patches:\n",
    "    ax.annotate(np.round(p.get_height(), decimals=4), (p.get_x()+0.25, p.get_height()+0.005))\n",
    "plt.savefig(\"..//results/dataretrieveLDA.jpg\")\n",
    "plt.show()"
   ]
  },
  {
   "cell_type": "code",
   "execution_count": 272,
   "metadata": {},
   "outputs": [
    {
     "data": {
      "image/png": "[encoded data removed]",
      "text/plain": [
       "<matplotlib.figure.Figure at 0x12382ec18>"
      ]
     },
     "metadata": {},
     "output_type": "display_data"
    }
   ],
   "source": [
    "plt.figure(figsize=(4,6))\n",
    "plt.ylim((0.5,0.8))\n",
    "ax = sns.barplot(x=desharnaisDiscs, y=desharnaisLDAScores, color = sns.xkcd_rgb['light blue'])\n",
    "ax.set(xlabel='Número de componentes')\n",
    "ax.set(ylabel='% acerto')\n",
    "for p in ax.patches:\n",
    "    ax.annotate(np.round(p.get_height(), decimals=4), (p.get_x()+0.25, p.get_height()+0.005))\n",
    "plt.savefig(\"..//results/desharnaisLDA.jpg\")\n",
    "plt.show()"
   ]
  },
  {
   "cell_type": "code",
   "execution_count": null,
   "metadata": {
    "collapsed": true
   },
   "outputs": [],
   "source": []
  }
 ],
 "metadata": {
  "kernelspec": {
   "display_name": "Python 3",
   "language": "python",
   "name": "python3"
  },
  "language_info": {
   "codemirror_mode": {
    "name": "ipython",
    "version": 3
   },
   "file_extension": ".py",
   "mimetype": "text/x-python",
   "name": "python",
   "nbconvert_exporter": "python",
   "pygments_lexer": "ipython3",
   "version": "3.6.1"
  }
 },
 "nbformat": 4,
 "nbformat_minor": 2
}
