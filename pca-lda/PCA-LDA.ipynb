{
 "cells": [
  {
   "cell_type": "code",
   "execution_count": 1,
   "metadata": {
    "collapsed": true
   },
   "outputs": [],
   "source": [
    "import pandas as pd\n",
    "import numpy as np"
   ]
  },
  {
   "cell_type": "code",
   "execution_count": 2,
   "metadata": {
    "collapsed": true
   },
   "outputs": [],
   "source": [
    "dataretrieve = pd.read_csv(\"..//datasets/dataretrieve.csv\", na_values='?')\n",
    "desharnais = pd.read_csv(\"..//datasets/desharnais.csv\", na_values='?')\n",
    "dataretrieve = dataretrieve.fillna(0)\n",
    "desharnais = desharnais.fillna(0)"
   ]
  },
  {
   "cell_type": "code",
   "execution_count": 3,
   "metadata": {
    "collapsed": true
   },
   "outputs": [],
   "source": [
    "with open(\"..//datasets/dataretrieve.txt\") as infile:\n",
    "    dataretrievelist = infile.read()\n",
    "    dataretrievelist = dataretrievelist.split(',')\n",
    "with open(\"..//datasets/desharnais.txt\") as infile:\n",
    "    desharnaislist = infile.read()\n",
    "    desharnaislist = desharnaislist.split(',')"
   ]
  },
  {
   "cell_type": "code",
   "execution_count": 26,
   "metadata": {
    "collapsed": true
   },
   "outputs": [],
   "source": [
    "from sklearn.preprocessing import StandardScaler"
   ]
  },
  {
   "cell_type": "code",
   "execution_count": 144,
   "metadata": {
    "collapsed": true
   },
   "outputs": [],
   "source": [
    "def myPCA(dataset, components):\n",
    "    #A última coluna é a classe\n",
    "    dataX = dataset.loc[:,dataset.columns[:-1]].values\n",
    "    dataY = dataset.loc[:,[dataset.columns[-1]]].values\n",
    "    \n",
    "    dataXstd = StandardScaler().fit_transform(dataX)\n",
    "    \n",
    "    meanVec = np.mean(dataXstd, axis=0)\n",
    "    covMat = np.cov(dataXstd.T)\n",
    "    \n",
    "    eigVals, eigVecs = np.linalg.eig(covMat)\n",
    "    \n",
    "    eigPairs = [(np.abs(eigVals[i]), eigVecs[:,i]) for i in range(len(eigVals))]\n",
    "    \n",
    "    totalInfo = sum(eigVals)\n",
    "    infoCovered = [(i / totalInfo) for i in sorted(eigVals, reverse=True)]\n",
    "    cumInfoCovered = np.cumsum(infoCovered)\n",
    "    \n",
    "    pos = 0\n",
    "    if(components == 0):\n",
    "        for i in range(len(cumInfoCovered)):\n",
    "            if(i==len(cumInfoCovered)-1):\n",
    "                pos = i-1\n",
    "                break\n",
    "            if (cumInfoCovered[i] > 0.9):\n",
    "                pos = i\n",
    "                break\n",
    "    else:\n",
    "        pos = components - 1\n",
    "    \n",
    "    matrixW = np.hstack((eigPairs[0][1].reshape(len(eigVals),1)))\n",
    "    \n",
    "    for j in range(1, pos+1):\n",
    "        matrixW = np.c_[matrixW, eigPairs[j][1].reshape(len(eigVals),1)]\n",
    "        \n",
    "    transformedData = dataXstd.dot(matrixW)\n",
    "    \n",
    "    return transformedData, matrixW"
   ]
  },
  {
   "cell_type": "code",
   "execution_count": 158,
   "metadata": {
    "collapsed": true
   },
   "outputs": [],
   "source": [
    "from sklearn import datasets, linear_model\n",
    "from sklearn.model_selection import cross_val_score\n",
    "from sklearn.neighbors import KNeighborsClassifier"
   ]
  },
  {
   "cell_type": "code",
   "execution_count": 213,
   "metadata": {},
   "outputs": [],
   "source": [
    "def calcScores(dataset):\n",
    "    knn = KNeighborsClassifier(n_neighbors=1)\n",
    "    dataY = dataset.loc[:,[dataset.columns[-1]]].values.ravel()\n",
    "    #c, r = dataY.shape\n",
    "    #dataY = dataY.reshape(c,)\n",
    "    scores = []\n",
    "    pcs = []\n",
    "    for i in range(1,len(dataset.columns)):\n",
    "        transformedData, matrixW = myPCA(dataset, i)\n",
    "        if(i==1):\n",
    "            transformedData = transformedData.reshape((transformedData.shape[0],1))\n",
    "        compScores = cross_val_score(knn, transformedData, dataY, cv=5, scoring='accuracy')\n",
    "        scores.append(np.mean(compScores))\n",
    "        pcs.append(i)\n",
    "    return scores, pcs"
   ]
  },
  {
   "cell_type": "code",
   "execution_count": 214,
   "metadata": {},
   "outputs": [
    {
     "name": "stderr",
     "output_type": "stream",
     "text": [
      "/Users/ajgan/anaconda/lib/python3.6/site-packages/sklearn/utils/validation.py:429: DataConversionWarning: Data with input dtype int64 was converted to float64 by StandardScaler.\n",
      "  warnings.warn(msg, _DataConversionWarning)\n",
      "/Users/ajgan/anaconda/lib/python3.6/site-packages/sklearn/utils/validation.py:429: DataConversionWarning: Data with input dtype int64 was converted to float64 by StandardScaler.\n",
      "  warnings.warn(msg, _DataConversionWarning)\n",
      "/Users/ajgan/anaconda/lib/python3.6/site-packages/sklearn/utils/validation.py:429: DataConversionWarning: Data with input dtype int64 was converted to float64 by StandardScaler.\n",
      "  warnings.warn(msg, _DataConversionWarning)\n",
      "/Users/ajgan/anaconda/lib/python3.6/site-packages/sklearn/utils/validation.py:429: DataConversionWarning: Data with input dtype int64 was converted to float64 by StandardScaler.\n",
      "  warnings.warn(msg, _DataConversionWarning)\n",
      "/Users/ajgan/anaconda/lib/python3.6/site-packages/sklearn/utils/validation.py:429: DataConversionWarning: Data with input dtype int64 was converted to float64 by StandardScaler.\n",
      "  warnings.warn(msg, _DataConversionWarning)\n",
      "/Users/ajgan/anaconda/lib/python3.6/site-packages/sklearn/utils/validation.py:429: DataConversionWarning: Data with input dtype int64 was converted to float64 by StandardScaler.\n",
      "  warnings.warn(msg, _DataConversionWarning)\n",
      "/Users/ajgan/anaconda/lib/python3.6/site-packages/sklearn/utils/validation.py:429: DataConversionWarning: Data with input dtype int64 was converted to float64 by StandardScaler.\n",
      "  warnings.warn(msg, _DataConversionWarning)\n",
      "/Users/ajgan/anaconda/lib/python3.6/site-packages/sklearn/utils/validation.py:429: DataConversionWarning: Data with input dtype int64 was converted to float64 by StandardScaler.\n",
      "  warnings.warn(msg, _DataConversionWarning)\n"
     ]
    }
   ],
   "source": [
    "dataretrieveScores, dataretrievePcs = calcScores(dataretrieve)"
   ]
  },
  {
   "cell_type": "code",
   "execution_count": 215,
   "metadata": {},
   "outputs": [
    {
     "data": {
      "text/plain": [
       "[0.86175498575498577,\n",
       " 0.84547008547008551,\n",
       " 0.86885470085470085,\n",
       " 0.88423931623931618,\n",
       " 0.87564672364672358,\n",
       " 0.88423931623931618,\n",
       " 0.88423931623931618,\n",
       " 0.88423931623931618]"
      ]
     },
     "execution_count": 215,
     "metadata": {},
     "output_type": "execute_result"
    }
   ],
   "source": [
    "dataretrieveScores"
   ]
  },
  {
   "cell_type": "code",
   "execution_count": 216,
   "metadata": {
    "collapsed": true
   },
   "outputs": [],
   "source": [
    "desharnaisScores, desharnaisPcs = calcScores(desharnais)"
   ]
  },
  {
   "cell_type": "code",
   "execution_count": 217,
   "metadata": {},
   "outputs": [
    {
     "data": {
      "text/plain": [
       "[0.44632352941176467,\n",
       " 0.5286764705882353,\n",
       " 0.54264705882352948,\n",
       " 0.54264705882352948,\n",
       " 0.49191176470588233,\n",
       " 0.54191176470588232,\n",
       " 0.57867647058823535,\n",
       " 0.55367647058823533,\n",
       " 0.57867647058823535,\n",
       " 0.57867647058823535,\n",
       " 0.57867647058823535]"
      ]
     },
     "execution_count": 217,
     "metadata": {},
     "output_type": "execute_result"
    }
   ],
   "source": [
    "desharnaisScores"
   ]
  },
  {
   "cell_type": "code",
   "execution_count": null,
   "metadata": {
    "collapsed": true
   },
   "outputs": [],
   "source": []
  }
 ],
 "metadata": {
  "kernelspec": {
   "display_name": "Python 3",
   "language": "python",
   "name": "python3"
  },
  "language_info": {
   "codemirror_mode": {
    "name": "ipython",
    "version": 3
   },
   "file_extension": ".py",
   "mimetype": "text/x-python",
   "name": "python",
   "nbconvert_exporter": "python",
   "pygments_lexer": "ipython3",
   "version": "3.6.1"
  }
 },
 "nbformat": 4,
 "nbformat_minor": 2
}
